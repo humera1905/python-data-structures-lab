{
  "nbformat": 4,
  "nbformat_minor": 0,
  "metadata": {
    "colab": {
      "provenance": []
    },
    "kernelspec": {
      "name": "python3",
      "display_name": "Python 3"
    },
    "language_info": {
      "name": "python"
    }
  },
  "cells": [
    {
      "cell_type": "markdown",
      "source": [
        "Practice Lab\n"
      ],
      "metadata": {
        "id": "wvZhZrMOXdio"
      }
    },
    {
      "cell_type": "code",
      "execution_count": null,
      "metadata": {
        "colab": {
          "base_uri": "https://localhost:8080/"
        },
        "id": "4Y8QB77FXagi",
        "outputId": "1cbafd40-354f-4959-82e7-12e5b06a0ab7"
      },
      "outputs": [
        {
          "output_type": "stream",
          "name": "stdout",
          "text": [
            "Food\n"
          ]
        }
      ],
      "source": [
        "# Assign a list using brackets, with elements separated by commas.\n",
        "y = [\"Hello\", \"you\", \"are\", \"easting\", \"Food\", 9, \"ingredients\"]\n",
        "# Print element at index 4.\n",
        "print(y [4])\n"
      ]
    },
    {
      "cell_type": "code",
      "source": [
        "# Trying to access an index not in list\n",
        "print(x[8])\n"
      ],
      "metadata": {
        "colab": {
          "base_uri": "https://localhost:8080/",
          "height": 159
        },
        "id": "cvK5t0m5XlaB",
        "outputId": "8779592e-b6ef-4d45-ae33-97db5ff6f077"
      },
      "execution_count": null,
      "outputs": [
        {
          "output_type": "error",
          "ename": "NameError",
          "evalue": "name 'x' is not defined",
          "traceback": [
            "\u001b[0;31m---------------------------------------------------------------------------\u001b[0m",
            "\u001b[0;31mNameError\u001b[0m                                 Traceback (most recent call last)",
            "\u001b[0;32m<ipython-input-2-b6c74ca1d7bf>\u001b[0m in \u001b[0;36m<cell line: 0>\u001b[0;34m()\u001b[0m\n\u001b[1;32m      1\u001b[0m \u001b[0;31m# Trying to access an index not in list\u001b[0m\u001b[0;34m\u001b[0m\u001b[0;34m\u001b[0m\u001b[0m\n\u001b[0;32m----> 2\u001b[0;31m \u001b[0mprint\u001b[0m\u001b[0;34m(\u001b[0m\u001b[0mx\u001b[0m\u001b[0;34m[\u001b[0m\u001b[0;36m8\u001b[0m\u001b[0;34m]\u001b[0m\u001b[0;34m)\u001b[0m\u001b[0;34m\u001b[0m\u001b[0;34m\u001b[0m\u001b[0m\n\u001b[0m",
            "\u001b[0;31mNameError\u001b[0m: name 'x' is not defined"
          ]
        }
      ]
    },
    {
      "cell_type": "code",
      "source": [
        "# Access part of a list (Slicing) y [2:3]\n",
        "y[:3]\n"
      ],
      "metadata": {
        "colab": {
          "base_uri": "https://localhost:8080/"
        },
        "id": "Nqvgt-ceXl_w",
        "outputId": "6ed51c93-3117-4061-e567-af51347a7905"
      },
      "execution_count": null,
      "outputs": [
        {
          "output_type": "execute_result",
          "data": {
            "text/plain": [
              "['Hello', 'you', 'are']"
            ]
          },
          "metadata": {},
          "execution_count": 3
        }
      ]
    },
    {
      "cell_type": "code",
      "source": [
        "y[2:]\n"
      ],
      "metadata": {
        "colab": {
          "base_uri": "https://localhost:8080/"
        },
        "id": "aS9cj7glXqgc",
        "outputId": "190f5bca-66e2-4397-9bc0-67de62331373"
      },
      "execution_count": null,
      "outputs": [
        {
          "output_type": "execute_result",
          "data": {
            "text/plain": [
              "['are', 'easting', 'Food', 9, 'ingredients']"
            ]
          },
          "metadata": {},
          "execution_count": 4
        }
      ]
    },
    {
      "cell_type": "code",
      "source": [
        "type(y)\n"
      ],
      "metadata": {
        "colab": {
          "base_uri": "https://localhost:8080/"
        },
        "id": "Hh9R-zzEXrhX",
        "outputId": "ca330c06-78d7-4a00-8fa3-3d1bf4828a39"
      },
      "execution_count": null,
      "outputs": [
        {
          "output_type": "execute_result",
          "data": {
            "text/plain": [
              "list"
            ]
          },
          "metadata": {},
          "execution_count": 5
        }
      ]
    },
    {
      "cell_type": "code",
      "source": [
        "y = [\"Hello\", \"you\", \"we\", \"easting\", \"Food\", 9, \"ingredients\"]\n",
        "\"WE\" in y"
      ],
      "metadata": {
        "colab": {
          "base_uri": "https://localhost:8080/"
        },
        "id": "Ci43iONyXsVw",
        "outputId": "8806b897-f58a-4e66-8697-19ebaf50fe72"
      },
      "execution_count": null,
      "outputs": [
        {
          "output_type": "execute_result",
          "data": {
            "text/plain": [
              "False"
            ]
          },
          "metadata": {},
          "execution_count": 7
        }
      ]
    },
    {
      "cell_type": "markdown",
      "source": [
        "Manipulate List Content"
      ],
      "metadata": {
        "id": "px9hfjibX9Z_"
      }
    },
    {
      "cell_type": "code",
      "source": [
        "# add an element the end of a list.\n",
        "fruits = ['Orange', 'Blueberry', 'Apple', 'Melon']\n",
        "fruits.append('Banana')\n",
        "print (fruits)\n"
      ],
      "metadata": {
        "colab": {
          "base_uri": "https://localhost:8080/"
        },
        "id": "Ms0FQ5G8X9JZ",
        "outputId": "63ae8dec-e586-4ad1-cb75-5307d696d066"
      },
      "execution_count": null,
      "outputs": [
        {
          "output_type": "stream",
          "name": "stdout",
          "text": [
            "['Orange', 'Blueberry', 'Apple', 'Melon', 'Banana']\n"
          ]
        }
      ]
    },
    {
      "cell_type": "code",
      "source": [
        "fruits.insert(2, 'Cherry')\n",
        "print (fruits)\n"
      ],
      "metadata": {
        "colab": {
          "base_uri": "https://localhost:8080/"
        },
        "id": "WRuMOmTiYJuY",
        "outputId": "f07e78ab-5e40-4177-fcf1-fcb3182616fa"
      },
      "execution_count": null,
      "outputs": [
        {
          "output_type": "stream",
          "name": "stdout",
          "text": [
            "['Orange', 'Blueberry', 'Cherry', 'Apple', 'Melon', 'Banana']\n"
          ]
        }
      ]
    },
    {
      "cell_type": "code",
      "source": [
        "fruits.remove('Apple')\n",
        "print (fruits)\n"
      ],
      "metadata": {
        "colab": {
          "base_uri": "https://localhost:8080/"
        },
        "id": "dFS5vxa_YLJ9",
        "outputId": "14d52698-fd21-43b6-9284-08c8a6e19fec"
      },
      "execution_count": null,
      "outputs": [
        {
          "output_type": "stream",
          "name": "stdout",
          "text": [
            "['Orange', 'Blueberry', 'Cherry', 'Melon', 'Banana']\n"
          ]
        }
      ]
    },
    {
      "cell_type": "code",
      "source": [
        "fruits.insert(0, 'Apple')\n",
        "print (fruits)\n"
      ],
      "metadata": {
        "colab": {
          "base_uri": "https://localhost:8080/"
        },
        "id": "uuQ5dbMlYMiA",
        "outputId": "22e3e24e-024f-4bb6-fac7-20c8d77f750d"
      },
      "execution_count": null,
      "outputs": [
        {
          "output_type": "stream",
          "name": "stdout",
          "text": [
            "['Apple', 'Orange', 'Blueberry', 'Cherry', 'Melon', 'Banana']\n"
          ]
        }
      ]
    },
    {
      "cell_type": "code",
      "source": [
        "fruits.remove('Lemon')\n"
      ],
      "metadata": {
        "colab": {
          "base_uri": "https://localhost:8080/",
          "height": 141
        },
        "id": "tSu0A-YEYPYw",
        "outputId": "7d3dcc40-c260-44c0-9ce0-c69a91667215"
      },
      "execution_count": null,
      "outputs": [
        {
          "output_type": "error",
          "ename": "ValueError",
          "evalue": "list.remove(x): x not in list",
          "traceback": [
            "\u001b[0;31m---------------------------------------------------------------------------\u001b[0m",
            "\u001b[0;31mValueError\u001b[0m                                Traceback (most recent call last)",
            "\u001b[0;32m<ipython-input-12-2fd6ba891c14>\u001b[0m in \u001b[0;36m<cell line: 0>\u001b[0;34m()\u001b[0m\n\u001b[0;32m----> 1\u001b[0;31m \u001b[0mfruits\u001b[0m\u001b[0;34m.\u001b[0m\u001b[0mremove\u001b[0m\u001b[0;34m(\u001b[0m\u001b[0;34m'Lemon'\u001b[0m\u001b[0;34m)\u001b[0m\u001b[0;34m\u001b[0m\u001b[0;34m\u001b[0m\u001b[0m\n\u001b[0m",
            "\u001b[0;31mValueError\u001b[0m: list.remove(x): x not in list"
          ]
        }
      ]
    },
    {
      "cell_type": "code",
      "source": [
        "fruits.pop(2)\n",
        "print (fruits)"
      ],
      "metadata": {
        "colab": {
          "base_uri": "https://localhost:8080/"
        },
        "id": "d-BhPhPLYQw9",
        "outputId": "2e5f78a1-ac3e-4212-e7b5-121cc58654c9"
      },
      "execution_count": null,
      "outputs": [
        {
          "output_type": "stream",
          "name": "stdout",
          "text": [
            "['Apple', 'Orange', 'Cherry', 'Melon', 'Banana']\n"
          ]
        }
      ]
    },
    {
      "cell_type": "markdown",
      "source": [
        "Tuples"
      ],
      "metadata": {
        "id": "zr1TnPO2Yf5X"
      }
    },
    {
      "cell_type": "code",
      "source": [
        "fullname = ('John', 'M', 'Bright')\n",
        "fullname[2] = 'Brown'\n",
        "print(fullname)\n"
      ],
      "metadata": {
        "colab": {
          "base_uri": "https://localhost:8080/",
          "height": 176
        },
        "id": "Hvu34scBYeE0",
        "outputId": "3c3a934e-d520-4d66-f081-faa47cf7c0cd"
      },
      "execution_count": null,
      "outputs": [
        {
          "output_type": "error",
          "ename": "TypeError",
          "evalue": "'tuple' object does not support item assignment",
          "traceback": [
            "\u001b[0;31m---------------------------------------------------------------------------\u001b[0m",
            "\u001b[0;31mTypeError\u001b[0m                                 Traceback (most recent call last)",
            "\u001b[0;32m<ipython-input-14-f077dc1b858e>\u001b[0m in \u001b[0;36m<cell line: 0>\u001b[0;34m()\u001b[0m\n\u001b[1;32m      1\u001b[0m \u001b[0mfullname\u001b[0m \u001b[0;34m=\u001b[0m \u001b[0;34m(\u001b[0m\u001b[0;34m'John'\u001b[0m\u001b[0;34m,\u001b[0m \u001b[0;34m'M'\u001b[0m\u001b[0;34m,\u001b[0m \u001b[0;34m'Bright'\u001b[0m\u001b[0;34m)\u001b[0m\u001b[0;34m\u001b[0m\u001b[0;34m\u001b[0m\u001b[0m\n\u001b[0;32m----> 2\u001b[0;31m \u001b[0mfullname\u001b[0m\u001b[0;34m[\u001b[0m\u001b[0;36m2\u001b[0m\u001b[0;34m]\u001b[0m \u001b[0;34m=\u001b[0m \u001b[0;34m'Brown'\u001b[0m\u001b[0;34m\u001b[0m\u001b[0;34m\u001b[0m\u001b[0m\n\u001b[0m\u001b[1;32m      3\u001b[0m \u001b[0mprint\u001b[0m\u001b[0;34m(\u001b[0m\u001b[0mfullname\u001b[0m\u001b[0;34m)\u001b[0m\u001b[0;34m\u001b[0m\u001b[0;34m\u001b[0m\u001b[0m\n",
            "\u001b[0;31mTypeError\u001b[0m: 'tuple' object does not support item assignment"
          ]
        }
      ]
    },
    {
      "cell_type": "code",
      "source": [
        "fullname = fullname + ('Jr',)\n",
        "print(fullname)\n"
      ],
      "metadata": {
        "colab": {
          "base_uri": "https://localhost:8080/"
        },
        "id": "UCj_MOebYirl",
        "outputId": "e2932e37-17a9-4341-9f8f-86734d929abb"
      },
      "execution_count": null,
      "outputs": [
        {
          "output_type": "stream",
          "name": "stdout",
          "text": [
            "('John', 'M', 'Bright', 'Jr')\n"
          ]
        }
      ]
    },
    {
      "cell_type": "code",
      "source": [
        "fullname = ('John', 'M', 'Bright')\n",
        "fullname tuple(fullname)\n",
        "print(fullname)"
      ],
      "metadata": {
        "colab": {
          "base_uri": "https://localhost:8080/",
          "height": 106
        },
        "id": "ol6-paxVYlbB",
        "outputId": "5db3b7fa-0359-4689-ab87-c6f5c6d8612c"
      },
      "execution_count": null,
      "outputs": [
        {
          "output_type": "error",
          "ename": "SyntaxError",
          "evalue": "invalid syntax (<ipython-input-16-70a1d8fd1735>, line 2)",
          "traceback": [
            "\u001b[0;36m  File \u001b[0;32m\"<ipython-input-16-70a1d8fd1735>\"\u001b[0;36m, line \u001b[0;32m2\u001b[0m\n\u001b[0;31m    fullname tuple(fullname)\u001b[0m\n\u001b[0m             ^\u001b[0m\n\u001b[0;31mSyntaxError\u001b[0m\u001b[0;31m:\u001b[0m invalid syntax\n"
          ]
        }
      ]
    },
    {
      "cell_type": "code",
      "source": [
        "# Functions that return more than one value return them in a tuple.\n",
        "def fahrenheit_to_celsius(fahrenheit):\n",
        "  \"\"\"\n",
        "  Converts temperature from Fahrenheit to Celsius.\n",
        "\n",
        "  Args:\n",
        "  fahrenheit: The temperature in Fahrenheit.\n",
        "\n",
        "  Returns:\n",
        "  The temperature in Celsius.\n",
        "  \"\"\"\n",
        "\n",
        "\n",
        "  celsius = (fahrenheit - 32) * 5/9\n",
        "  return celsius, fahrenheit\n",
        "\n"
      ],
      "metadata": {
        "id": "J-U59tUzY0St"
      },
      "execution_count": null,
      "outputs": []
    },
    {
      "cell_type": "code",
      "source": [
        "fahrenheit_to_celsius(6)\n"
      ],
      "metadata": {
        "colab": {
          "base_uri": "https://localhost:8080/"
        },
        "id": "4Opj6fW7Y0N8",
        "outputId": "18b5997f-401a-428a-b88b-64db34721dec"
      },
      "execution_count": null,
      "outputs": [
        {
          "output_type": "execute_result",
          "data": {
            "text/plain": [
              "(-14.444444444444445, 6)"
            ]
          },
          "metadata": {},
          "execution_count": 20
        }
      ]
    },
    {
      "cell_type": "code",
      "source": [
        "# \"Unpacking\" a tuple\n",
        "celsius, fahrenheit = fahrenheit_to_celsius (6)\n",
        "\n",
        "print(celsius)\n",
        "print (fahrenheit)\n"
      ],
      "metadata": {
        "colab": {
          "base_uri": "https://localhost:8080/"
        },
        "id": "AWrgXQbKZgWo",
        "outputId": "89f37569-8c3a-4c0d-a00b-9f7b217350ca"
      },
      "execution_count": null,
      "outputs": [
        {
          "output_type": "stream",
          "name": "stdout",
          "text": [
            "-14.444444444444445\n",
            "6\n"
          ]
        }
      ]
    },
    {
      "cell_type": "code",
      "source": [
        "type (celsius)"
      ],
      "metadata": {
        "colab": {
          "base_uri": "https://localhost:8080/"
        },
        "id": "O8J-5tKRZoqR",
        "outputId": "9481f9cb-04a3-4536-d03a-48027f32c725"
      },
      "execution_count": null,
      "outputs": [
        {
          "output_type": "execute_result",
          "data": {
            "text/plain": [
              "float"
            ]
          },
          "metadata": {},
          "execution_count": 22
        }
      ]
    },
    {
      "cell_type": "code",
      "source": [
        "soccer_players = [\n",
        "(\"Lionel Messi\", 35, \"Forward\"),\n",
        "(\"Cristiano Ronaldo\", 37, \"Forward\"),\n",
        "(\"Neymar Jr\", 30, \"Forward\"),\n",
        "(\"Kylian Mbappé\", 23, \"Forward\"),\n",
        "(\"Kevin De Bruyne\", 31, \"Midfielder\"),\n",
        "(\"Virgil van Dijk\", 31, \"Defender\"),\n",
        "(\"Erling Haaland\", 22, \"Forward\"),\n",
        "(\"Mohamed Salah\", 30, \"Forward\"),\n",
        "(\"Robert Lewandowski\", 34, \"Forward\"),\n",
        "(\"Alisson Becker\", 30, \"Goalkeeper\")\n",
        "]\n"
      ],
      "metadata": {
        "id": "qJdrdsjtaR6Y"
      },
      "execution_count": null,
      "outputs": []
    },
    {
      "cell_type": "code",
      "source": [
        "for name, age, position in soccer_players:\n",
        " print(name, age)\n"
      ],
      "metadata": {
        "colab": {
          "base_uri": "https://localhost:8080/"
        },
        "id": "iunmsTV0aVUz",
        "outputId": "33d9f99e-0104-4e5e-a85e-1427fb1944c4"
      },
      "execution_count": null,
      "outputs": [
        {
          "output_type": "stream",
          "name": "stdout",
          "text": [
            "Lionel Messi 35\n",
            "Cristiano Ronaldo 37\n",
            "Neymar Jr 30\n",
            "Kylian Mbappé 23\n",
            "Kevin De Bruyne 31\n",
            "Virgil van Dijk 31\n",
            "Erling Haaland 22\n",
            "Mohamed Salah 30\n",
            "Robert Lewandowski 34\n",
            "Alisson Becker 30\n"
          ]
        }
      ]
    },
    {
      "cell_type": "code",
      "source": [
        "def player_position(players):\n",
        " result = []\n",
        " for name, age, position in players:\n",
        "  result.append('Name: {:>19} \\nPosition: {:>15}\\n'.format(name, position))\n",
        " return result\n"
      ],
      "metadata": {
        "id": "CF5eWZ50aZSX"
      },
      "execution_count": null,
      "outputs": []
    },
    {
      "cell_type": "code",
      "source": [
        "for player in player_position (soccer_players):\n",
        "  print(player)"
      ],
      "metadata": {
        "colab": {
          "base_uri": "https://localhost:8080/"
        },
        "id": "Dk-FakVSanSL",
        "outputId": "270bd407-12e9-4def-f3df-73878f8cf723"
      },
      "execution_count": null,
      "outputs": [
        {
          "output_type": "stream",
          "name": "stdout",
          "text": [
            "Name:        Lionel Messi \n",
            "Position:         Forward\n",
            "\n",
            "Name:   Cristiano Ronaldo \n",
            "Position:         Forward\n",
            "\n",
            "Name:           Neymar Jr \n",
            "Position:         Forward\n",
            "\n",
            "Name:       Kylian Mbappé \n",
            "Position:         Forward\n",
            "\n",
            "Name:     Kevin De Bruyne \n",
            "Position:      Midfielder\n",
            "\n",
            "Name:     Virgil van Dijk \n",
            "Position:        Defender\n",
            "\n",
            "Name:      Erling Haaland \n",
            "Position:         Forward\n",
            "\n",
            "Name:       Mohamed Salah \n",
            "Position:         Forward\n",
            "\n",
            "Name:  Robert Lewandowski \n",
            "Position:         Forward\n",
            "\n",
            "Name:      Alisson Becker \n",
            "Position:      Goalkeeper\n",
            "\n"
          ]
        }
      ]
    },
    {
      "cell_type": "markdown",
      "source": [
        "Dictionaries\n"
      ],
      "metadata": {
        "id": "D8aKL3EnbHPN"
      }
    },
    {
      "cell_type": "code",
      "source": [
        "capitals = {\n",
        "'London': 'United Kingdom',\n",
        "'Paris': 'France',\n",
        "'Berlin': 'Germany',\n",
        "'Rome': 'Italy',\n",
        "'Madrid': 'Spain',\n",
        "'Tokyo': 'Japan',\n",
        "'Beijing': 'China',\n",
        "'New Delhi': 'India'\n",
        "}\n",
        "\n",
        "# Selecting the `pen_2` key returns `zebras`, the value stored at that key.\n",
        "capitals ['Berlin']\n",
        "\n"
      ],
      "metadata": {
        "colab": {
          "base_uri": "https://localhost:8080/",
          "height": 35
        },
        "id": "_CLvijr1bE_h",
        "outputId": "5de56245-6f1c-479b-d723-cb81bb697492"
      },
      "execution_count": null,
      "outputs": [
        {
          "output_type": "execute_result",
          "data": {
            "text/plain": [
              "'Germany'"
            ],
            "application/vnd.google.colaboratory.intrinsic+json": {
              "type": "string"
            }
          },
          "metadata": {},
          "execution_count": 29
        }
      ]
    },
    {
      "cell_type": "code",
      "source": [
        "capitals ['China']"
      ],
      "metadata": {
        "colab": {
          "base_uri": "https://localhost:8080/",
          "height": 141
        },
        "id": "_U-8eBekbNHV",
        "outputId": "0d258ec3-a916-4e8f-c579-83db9a72f777"
      },
      "execution_count": null,
      "outputs": [
        {
          "output_type": "error",
          "ename": "KeyError",
          "evalue": "'China'",
          "traceback": [
            "\u001b[0;31m---------------------------------------------------------------------------\u001b[0m",
            "\u001b[0;31mKeyError\u001b[0m                                  Traceback (most recent call last)",
            "\u001b[0;32m<ipython-input-30-f9fd2e524b59>\u001b[0m in \u001b[0;36m<cell line: 0>\u001b[0;34m()\u001b[0m\n\u001b[0;32m----> 1\u001b[0;31m \u001b[0mcapitals\u001b[0m \u001b[0;34m[\u001b[0m\u001b[0;34m'China'\u001b[0m\u001b[0;34m]\u001b[0m\u001b[0;34m\u001b[0m\u001b[0;34m\u001b[0m\u001b[0m\n\u001b[0m",
            "\u001b[0;31mKeyError\u001b[0m: 'China'"
          ]
        }
      ]
    },
    {
      "cell_type": "code",
      "source": [
        "capitals_dict = dict([('London', 'United Kingdom'),\n",
        "('Paris', 'France'),\n",
        "('Berlin', 'Germany'),\n",
        "('Rome', 'Italy'),\n",
        "('Madrid', 'Spain'),\n",
        "('Tokyo', 'Japan'),\n",
        "('Beijing', 'China'),\n",
        "('New Delhi', 'India')])\n",
        "capitals_dict"
      ],
      "metadata": {
        "colab": {
          "base_uri": "https://localhost:8080/"
        },
        "id": "bRuawSjrbPRP",
        "outputId": "fefa6449-ce06-41a1-b21e-f2d4b3598686"
      },
      "execution_count": null,
      "outputs": [
        {
          "output_type": "execute_result",
          "data": {
            "text/plain": [
              "{'London': 'United Kingdom',\n",
              " 'Paris': 'France',\n",
              " 'Berlin': 'Germany',\n",
              " 'Rome': 'Italy',\n",
              " 'Madrid': 'Spain',\n",
              " 'Tokyo': 'Japan',\n",
              " 'Beijing': 'China',\n",
              " 'New Delhi': 'India'}"
            ]
          },
          "metadata": {},
          "execution_count": 31
        }
      ]
    },
    {
      "cell_type": "code",
      "source": [
        "capitals_dict['Tokyo']"
      ],
      "metadata": {
        "colab": {
          "base_uri": "https://localhost:8080/",
          "height": 35
        },
        "id": "SXOoond9bWwX",
        "outputId": "e76ebe83-8aac-48a4-b45d-a45c1a393003"
      },
      "execution_count": null,
      "outputs": [
        {
          "output_type": "execute_result",
          "data": {
            "text/plain": [
              "'Japan'"
            ],
            "application/vnd.google.colaboratory.intrinsic+json": {
              "type": "string"
            }
          },
          "metadata": {},
          "execution_count": 32
        }
      ]
    },
    {
      "cell_type": "code",
      "source": [
        "capitals_dict['Jordan'] = 'Amman'\n",
        "capitals_dict"
      ],
      "metadata": {
        "colab": {
          "base_uri": "https://localhost:8080/"
        },
        "id": "i4kpKUPBblpW",
        "outputId": "6eb08606-a706-4e02-baf9-c5e5b4e3e805"
      },
      "execution_count": null,
      "outputs": [
        {
          "output_type": "execute_result",
          "data": {
            "text/plain": [
              "{'London': 'United Kingdom',\n",
              " 'Paris': 'France',\n",
              " 'Berlin': 'Germany',\n",
              " 'Rome': 'Italy',\n",
              " 'Madrid': 'Spain',\n",
              " 'Tokyo': 'Japan',\n",
              " 'Beijing': 'China',\n",
              " 'New Delhi': 'India',\n",
              " 'Jordan': 'Amman'}"
            ]
          },
          "metadata": {},
          "execution_count": 33
        }
      ]
    },
    {
      "cell_type": "code",
      "source": [
        "capitals_dict[2]\n"
      ],
      "metadata": {
        "colab": {
          "base_uri": "https://localhost:8080/",
          "height": 141
        },
        "id": "9-fp0vL0bqTV",
        "outputId": "7a9f9149-e326-45d0-c38a-49ad11999b6c"
      },
      "execution_count": null,
      "outputs": [
        {
          "output_type": "error",
          "ename": "KeyError",
          "evalue": "2",
          "traceback": [
            "\u001b[0;31m---------------------------------------------------------------------------\u001b[0m",
            "\u001b[0;31mKeyError\u001b[0m                                  Traceback (most recent call last)",
            "\u001b[0;32m<ipython-input-34-b018d4f87045>\u001b[0m in \u001b[0;36m<cell line: 0>\u001b[0;34m()\u001b[0m\n\u001b[0;32m----> 1\u001b[0;31m \u001b[0mcapitals_dict\u001b[0m\u001b[0;34m[\u001b[0m\u001b[0;36m2\u001b[0m\u001b[0;34m]\u001b[0m\u001b[0;34m\u001b[0m\u001b[0;34m\u001b[0m\u001b[0m\n\u001b[0m",
            "\u001b[0;31mKeyError\u001b[0m: 2"
          ]
        }
      ]
    },
    {
      "cell_type": "code",
      "source": [
        "print('Amman' in capitals_dict)\n",
        "print('Tokyo' in capitals_dict)\n"
      ],
      "metadata": {
        "colab": {
          "base_uri": "https://localhost:8080/"
        },
        "id": "5N1hy8GLbvzE",
        "outputId": "31e809ee-4be1-4749-b3d0-9ec96b553fbe"
      },
      "execution_count": null,
      "outputs": [
        {
          "output_type": "stream",
          "name": "stdout",
          "text": [
            "False\n",
            "True\n"
          ]
        }
      ]
    },
    {
      "cell_type": "code",
      "source": [
        "soccer_players = [\n",
        " (\"Lionel Messi\", 35, \"Forward\"),\n",
        " (\"Cristiano Ronaldo\", 37, \"Forward\"),\n",
        " (\"Neymar Jr\", 30, \"Forward\"),\n",
        " (\"Kylian Mbappé\", 23, \"Forward\"),\n",
        " (\"Kevin De Bruyne\", 31, \"Midfielder\"),\n",
        " (\"Virgil van Dijk\", 31, \"Defender\"),\n",
        " (\"Erling Haaland\", 22, \"Forward\"),\n",
        " (\"Mohamed Salah\", 30, \"Forward\"),\n",
        " (\"Robert Lewandowski\", 34, \"Forward\"),\n",
        " (\"Alisson Becker\", 30, \"Goalkeeper\")\n",
        " ]\n"
      ],
      "metadata": {
        "id": "ulvsz3Bqbz9F"
      },
      "execution_count": null,
      "outputs": []
    },
    {
      "cell_type": "code",
      "source": [
        "for x in soccer_players:\n",
        " print(x)\n"
      ],
      "metadata": {
        "colab": {
          "base_uri": "https://localhost:8080/"
        },
        "id": "S4QWJ3amcMT6",
        "outputId": "e7e22804-d01d-4aba-f472-154dc5ba2e05"
      },
      "execution_count": null,
      "outputs": [
        {
          "output_type": "stream",
          "name": "stdout",
          "text": [
            "('Lionel Messi', 35, 'Forward')\n",
            "('Cristiano Ronaldo', 37, 'Forward')\n",
            "('Neymar Jr', 30, 'Forward')\n",
            "('Kylian Mbappé', 23, 'Forward')\n",
            "('Kevin De Bruyne', 31, 'Midfielder')\n",
            "('Virgil van Dijk', 31, 'Defender')\n",
            "('Erling Haaland', 22, 'Forward')\n",
            "('Mohamed Salah', 30, 'Forward')\n",
            "('Robert Lewandowski', 34, 'Forward')\n",
            "('Alisson Becker', 30, 'Goalkeeper')\n"
          ]
        }
      ]
    },
    {
      "cell_type": "markdown",
      "source": [
        "Set"
      ],
      "metadata": {
        "id": "z00RdpO1cQdA"
      }
    },
    {
      "cell_type": "code",
      "source": [
        "x = set(['foo', 'test', 'baz', 'test'])\n",
        "print(x)\n"
      ],
      "metadata": {
        "colab": {
          "base_uri": "https://localhost:8080/"
        },
        "id": "7uLJC9x5cPlI",
        "outputId": "d8a91c5e-3780-49d9-810e-6a9374245272"
      },
      "execution_count": null,
      "outputs": [
        {
          "output_type": "stream",
          "name": "stdout",
          "text": [
            "{'foo', 'baz', 'test'}\n"
          ]
        }
      ]
    },
    {
      "cell_type": "code",
      "source": [
        "set(('foo', 'test', 'baz', 'test'))\n",
        "print(x)"
      ],
      "metadata": {
        "colab": {
          "base_uri": "https://localhost:8080/"
        },
        "id": "MwPMIK3Fcbhl",
        "outputId": "dc852c17-c6e3-41fd-dc74-3c69173ba0e7"
      },
      "execution_count": null,
      "outputs": [
        {
          "output_type": "stream",
          "name": "stdout",
          "text": [
            "{'foo', 'baz', 'test'}\n"
          ]
        }
      ]
    },
    {
      "cell_type": "code",
      "source": [
        "x = set('test')\n",
        "print(x)"
      ],
      "metadata": {
        "colab": {
          "base_uri": "https://localhost:8080/"
        },
        "id": "A2Ellf2TcdwG",
        "outputId": "ddeae50c-ab0a-41c0-b04d-39f45b70fb04"
      },
      "execution_count": null,
      "outputs": [
        {
          "output_type": "stream",
          "name": "stdout",
          "text": [
            "{'t', 'e', 's'}\n"
          ]
        }
      ]
    },
    {
      "cell_type": "code",
      "source": [
        "x = { 'foo'}\n",
        "print(type(x))"
      ],
      "metadata": {
        "colab": {
          "base_uri": "https://localhost:8080/"
        },
        "id": "b0WXynsAciQO",
        "outputId": "13ccb534-2ef5-4c79-d6d3-364dd08514e2"
      },
      "execution_count": null,
      "outputs": [
        {
          "output_type": "stream",
          "name": "stdout",
          "text": [
            "<class 'set'>\n"
          ]
        }
      ]
    },
    {
      "cell_type": "code",
      "source": [
        "x = {'test'}\n",
        "print(x)"
      ],
      "metadata": {
        "colab": {
          "base_uri": "https://localhost:8080/"
        },
        "id": "k_1GzdqBcpDF",
        "outputId": "d284889a-1117-4868-e761-f95c85d5b03b"
      },
      "execution_count": null,
      "outputs": [
        {
          "output_type": "stream",
          "name": "stdout",
          "text": [
            "{'test'}\n"
          ]
        }
      ]
    },
    {
      "cell_type": "code",
      "source": [
        "set1 = {1, 2, 3, 4, 5, 6}\n",
        "set2 = {4, 5, 6, 7, 8, 9}\n",
        "print(set1.intersection (set2))\n",
        "print(set1 & set2)"
      ],
      "metadata": {
        "colab": {
          "base_uri": "https://localhost:8080/"
        },
        "id": "Ma6QZdZYcsQt",
        "outputId": "207c8b0c-d2df-4613-ce03-d96972555aea"
      },
      "execution_count": null,
      "outputs": [
        {
          "output_type": "stream",
          "name": "stdout",
          "text": [
            "{4, 5, 6}\n",
            "{4, 5, 6}\n"
          ]
        }
      ]
    },
    {
      "cell_type": "code",
      "source": [
        "x1 = {'foo', 'baz', 'baz'}\n",
        "x2 = {'baz', 'test', 'quux'}\n",
        "print(x1.union (x2))\n",
        "print(x1 | x2)"
      ],
      "metadata": {
        "colab": {
          "base_uri": "https://localhost:8080/"
        },
        "id": "njGx-8drcyjy",
        "outputId": "28484a63-1b67-4ecd-ebef-20b70450d076"
      },
      "execution_count": null,
      "outputs": [
        {
          "output_type": "stream",
          "name": "stdout",
          "text": [
            "{'foo', 'test', 'quux', 'baz'}\n",
            "{'foo', 'test', 'quux', 'baz'}\n"
          ]
        }
      ]
    },
    {
      "cell_type": "code",
      "source": [
        "set1 = {1, 2, 3, 4, 5, 6}\n",
        "set2 = {4, 5, 6, 7, 8, 9}\n",
        "print(set1.difference (set2))\n",
        "print(set1 - set2)"
      ],
      "metadata": {
        "colab": {
          "base_uri": "https://localhost:8080/"
        },
        "id": "lugGoEjRc7wV",
        "outputId": "d8a02981-d4f8-478b-82ad-80aaf35ec0b1"
      },
      "execution_count": null,
      "outputs": [
        {
          "output_type": "stream",
          "name": "stdout",
          "text": [
            "{1, 2, 3}\n",
            "{1, 2, 3}\n"
          ]
        }
      ]
    },
    {
      "cell_type": "code",
      "source": [
        "print(set2.difference (set1))\n",
        "print(set2 - set1)"
      ],
      "metadata": {
        "colab": {
          "base_uri": "https://localhost:8080/"
        },
        "id": "XxRdzYjjdBFi",
        "outputId": "d05e8045-7042-4185-95a7-c8adec4401af"
      },
      "execution_count": null,
      "outputs": [
        {
          "output_type": "stream",
          "name": "stdout",
          "text": [
            "{8, 9, 7}\n",
            "{8, 9, 7}\n"
          ]
        }
      ]
    },
    {
      "cell_type": "code",
      "source": [
        "set1 = {1, 2, 3, 4, 5, 6}\n",
        "set2 = {4, 5, 6, 7, 8, 9}\n",
        "set2.symmetric_difference (set1)\n",
        "set2 ^ set1"
      ],
      "metadata": {
        "colab": {
          "base_uri": "https://localhost:8080/"
        },
        "id": "n9ejx6EKdJJq",
        "outputId": "b4180f64-296c-4943-cec0-82ef46675d91"
      },
      "execution_count": null,
      "outputs": [
        {
          "output_type": "execute_result",
          "data": {
            "text/plain": [
              "{1, 2, 3, 7, 8, 9}"
            ]
          },
          "metadata": {},
          "execution_count": 51
        }
      ]
    }
  ]
}